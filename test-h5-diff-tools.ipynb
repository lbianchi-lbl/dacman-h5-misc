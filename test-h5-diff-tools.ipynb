{
 "cells": [
  {
   "cell_type": "markdown",
   "metadata": {},
   "source": [
    "# Testing HDF5 diff tools"
   ]
  },
  {
   "cell_type": "markdown",
   "metadata": {},
   "source": [
    "### Types of change\n",
    "\n",
    "- These differences are associated with metadata/properties of HDF5 Objects\n",
    "    - Metadata/properties can be generic (apply to all objects) or specific (only apply to a particular object type)\n",
    "- The nomenclature mostly follows that of `h5py`\n",
    "\n",
    "#### Between generic h5 Objects\n",
    "\n",
    "- `type_h5`: the two Objects have different HDF5 types\n",
    "    - e.g. obj_a.type_h5 = Dataset, obj_b.type_h5 = Group\n",
    "    - Called \"htype\" in `ndiff`\n",
    "- `attributes`: the attributes of each of the two Objects are different\n",
    "    - Orthogonal to `type_h5`, i.e. two Objects can have all 4 combinations of same/different `type_h5` and `attributes`\n",
    "\n",
    "#### Between Datasets\n",
    "\n",
    "- `ndim`: the two Datasets have different number of dimensions (axes)\n",
    "    - Called \"rank\" in `h5diff`\n",
    "- `shape`: the two Datasets have different dimensions\n",
    "    - `shape` is a tuple of integers where `len(shape)` = `ndim`\n",
    "    - Therefore, two arrays can have the same `ndim`, but different `shape`\n",
    "- `dtype`: the two Datasets have different data types\n",
    "    - `dtype` ~= numpy dtype (but not always)\n",
    "    - Differences in `dtype` are orthogonal to differences in structure (`ndim`, `shape`)\n",
    "- `value`: the content of the two Datasets is different\n",
    "    - For `value` to be fully comparable (i.e. elementwise delta), `ndim`, `shape`, and `dtype` must be equal\n",
    "    \n",
    "    \n",
    "#### Between Groups\n",
    "\n",
    "Note: in `h5py`, `File` objects are also `Group`s.\n",
    "\n",
    "- `num_objs`: the two Groups contain different number of Objects\n",
    "    - Compare only direct children (i.e. no recursion) for simplicity\n",
    "    - `h5py.Group.id.num_objs` only counts total number\n",
    "    - Possible to extend this to have separate counts by `type_h5`, i.e. `num_objs: {Dataset: 3, Group: 2, total: 5}`\n",
    "    \n",
    "#### Between Files\n",
    "\n",
    "- `filename`: the two Files have different filesystem paths\n",
    "\n",
    "#### Between Attributes\n",
    "\n",
    "- Attributes in HDF5 are mapping between text keys and values\n",
    "- Values can be of any supported dtype\n",
    "- Effectively, Attributes can be considered a flat Group (i.e. no sub-groups) with one or more Datasets\n",
    "- Comparison between Attributes has similar semantics to comparison between groups\n",
    "    - Keys can be: only in `A`, only in `B`, in both and values are equal, in both and values are different\n",
    "    - Types of change between Attribute values are the same as for Datasets\n",
    "    "
   ]
  },
  {
   "cell_type": "markdown",
   "metadata": {},
   "source": [
    "## Files used for testing\n",
    "\n",
    "- `A.h5`, created from scratch in `create-A.ipynb`\n",
    "- `B.h5`, modified from a copy of `A.h5` in `create-B.ipynb`"
   ]
  },
  {
   "cell_type": "code",
   "execution_count": 16,
   "metadata": {},
   "outputs": [
    {
     "name": "stdout",
     "output_type": "stream",
     "text": [
      "Opened \"A.h5\" with sec2 driver.\n",
      "A.h5//                   Group\n",
      "    Location:  1:96\n",
      "    Links:     1\n",
      "A.h5//analysis           Group\n",
      "    Location:  1:2536\n",
      "    Links:     1\n",
      "A.h5//data_clean         Group\n",
      "    Location:  1:1832\n",
      "    Links:     1\n",
      "A.h5//data_raw           Group\n",
      "    Location:  1:800\n",
      "    Links:     1\n",
      "A.h5//data_raw/exp0      Dataset {6/6}\n",
      "    Attribute: temperature scalar\n",
      "        Type:      native double\n",
      "        Data:  23.2\n",
      "    Attribute: uid scalar\n",
      "        Type:      14-byte null-padded ASCII string\n",
      "        Data:  \"2019-07-01_001\"\n",
      "    Location:  1:3240\n",
      "    Links:     1\n",
      "    Storage:   48 logical bytes, 48 allocated bytes, 100.00% utilization\n",
      "    Type:      native long\n",
      "A.h5//data_raw/exp1      Dataset {8/8}\n",
      "    Attribute: temperature scalar\n",
      "        Type:      native double\n",
      "        Data:  35.9\n",
      "    Attribute: uid scalar\n",
      "        Type:      14-byte null-padded ASCII string\n",
      "        Data:  \"2019-07-03_001\"\n",
      "    Location:  1:5984\n",
      "    Links:     1\n",
      "    Storage:   8 logical bytes, 8 allocated bytes, 100.00% utilization\n",
      "    Type:      1-byte null-padded ASCII string\n",
      "A.h5//data_raw/exp2      Dataset {7/7}\n",
      "    Attribute: temperature scalar\n",
      "        Type:      native double\n",
      "        Data:  27.6\n",
      "    Attribute: uid scalar\n",
      "        Type:      14-byte null-padded ASCII string\n",
      "        Data:  \"2019-07-09_001\"\n",
      "    Location:  1:6264\n",
      "    Links:     1\n",
      "    Storage:   56 logical bytes, 56 allocated bytes, 100.00% utilization\n",
      "    Type:      native long\n",
      "A.h5//data_raw/exp3      Dataset {7/7}\n",
      "    Attribute: temperature scalar\n",
      "        Type:      native double\n",
      "        Data:  25.7\n",
      "    Attribute: uid scalar\n",
      "        Type:      14-byte null-padded ASCII string\n",
      "        Data:  \"2019-07-12_001\"\n",
      "    Location:  1:6552\n",
      "    Links:     1\n",
      "    Storage:   56 logical bytes, 56 allocated bytes, 100.00% utilization\n",
      "    Type:      native long\n",
      "A.h5//data_raw/exp4      Dataset {7/7}\n",
      "    Attribute: temperature scalar\n",
      "        Type:      native double\n",
      "        Data:  27.4\n",
      "    Attribute: uid scalar\n",
      "        Type:      14-byte null-padded ASCII string\n",
      "        Data:  \"2019-07-12_002\"\n",
      "    Location:  1:6840\n",
      "    Links:     1\n",
      "    Storage:   56 logical bytes, 56 allocated bytes, 100.00% utilization\n",
      "    Type:      native long\n",
      "A.h5//data_raw/exp5      Dataset {5/5}\n",
      "    Attribute: temperature scalar\n",
      "        Type:      native double\n",
      "        Data:  25\n",
      "    Attribute: uid scalar\n",
      "        Type:      14-byte null-padded ASCII string\n",
      "        Data:  \"2019-07-13_001\"\n",
      "    Location:  1:7128\n",
      "    Links:     1\n",
      "    Storage:   40 logical bytes, 40 allocated bytes, 100.00% utilization\n",
      "    Type:      native long\n",
      "A.h5//data_raw/exp6      Dataset {6/6}\n",
      "    Attribute: temperature scalar\n",
      "        Type:      native double\n",
      "        Data:  25.3\n",
      "    Attribute: uid scalar\n",
      "        Type:      14-byte null-padded ASCII string\n",
      "        Data:  \"2019-07-13_002\"\n",
      "    Location:  1:7416\n",
      "    Links:     1\n",
      "    Storage:   48 logical bytes, 48 allocated bytes, 100.00% utilization\n",
      "    Type:      native double\n",
      "Opened \"B.h5\" with sec2 driver.\n",
      "B.h5//                   Group\n",
      "    Location:  2:96\n",
      "    Links:     1\n",
      "B.h5//analysis           Group\n",
      "    Location:  2:2536\n",
      "    Links:     1\n",
      "B.h5//data_clean         Group\n",
      "    Location:  2:1832\n",
      "    Links:     1\n",
      "B.h5//data_clean/exp0    Dataset {2/2, 3/3}\n",
      "    Attribute: threshold scalar\n",
      "        Type:      native long\n",
      "        Data:  4\n",
      "    Location:  2:13368\n",
      "    Links:     1\n",
      "    Storage:   48 logical bytes, 48 allocated bytes, 100.00% utilization\n",
      "    Type:      native double\n",
      "B.h5//data_clean/exp2    Dataset {7/7}\n",
      "    Attribute: threshold scalar\n",
      "        Type:      native long\n",
      "        Data:  20\n",
      "    Location:  2:12768\n",
      "    Links:     1\n",
      "    Storage:   56 logical bytes, 56 allocated bytes, 100.00% utilization\n",
      "    Type:      native double\n",
      "B.h5//data_raw           Group\n",
      "    Location:  2:800\n",
      "    Links:     1\n",
      "B.h5//data_raw/exp0      Dataset {2/2, 3/3}\n",
      "    Attribute: temperature scalar\n",
      "        Type:      native double\n",
      "        Data:  23.2\n",
      "    Attribute: uid scalar\n",
      "        Type:      14-byte null-padded ASCII string\n",
      "        Data:  \"2019-07-01_001\"\n",
      "    Location:  2:7712\n",
      "    Links:     1\n",
      "    Storage:   48 logical bytes, 48 allocated bytes, 100.00% utilization\n",
      "    Type:      native long\n",
      "B.h5//data_raw/exp1      Group\n",
      "    Location:  2:8776\n",
      "    Links:     1\n",
      "B.h5//data_raw/exp1/run0 Dataset {8/8}\n",
      "    Attribute: temperature scalar\n",
      "        Type:      native double\n",
      "        Data:  35.9\n",
      "    Attribute: uid scalar\n",
      "        Type:      14-byte null-padded ASCII string\n",
      "        Data:  \"2019-07-03_001\"\n",
      "    Location:  2:9480\n",
      "    Links:     1\n",
      "    Storage:   8 logical bytes, 8 allocated bytes, 100.00% utilization\n",
      "    Type:      1-byte null-padded ASCII string\n",
      "B.h5//data_raw/exp1/run1 Dataset {8/8}\n",
      "    Attribute: description scalar\n",
      "        Type:      34-byte null-padded ASCII string\n",
      "        Data:  \"Second version of the same dataset\"\n",
      "    Attribute: temperature scalar\n",
      "        Type:      native double\n",
      "        Data:  35.9\n",
      "    Attribute: uid scalar\n",
      "        Type:      14-byte null-padded ASCII string\n",
      "        Data:  \"2019-07-03_002\"\n",
      "    Location:  2:12136\n",
      "    Links:     1\n",
      "    Storage:   8 logical bytes, 8 allocated bytes, 100.00% utilization\n",
      "    Type:      1-byte null-padded ASCII string\n",
      "B.h5//data_raw/exp2      Dataset {7/7}\n",
      "    Attribute: temperature scalar\n",
      "        Type:      native double\n",
      "        Data:  27.6\n",
      "    Attribute: uid scalar\n",
      "        Type:      14-byte null-padded ASCII string\n",
      "        Data:  \"2019-07-09_001\"\n",
      "    Location:  2:8472\n",
      "    Links:     1\n",
      "    Storage:   56 logical bytes, 56 allocated bytes, 100.00% utilization\n",
      "    Type:      native double\n",
      "B.h5//data_raw/exp3      Dataset {7/7}\n",
      "    Attribute: temperature scalar\n",
      "        Type:      native double\n",
      "        Data:  30.7\n",
      "    Attribute: temperature_comment scalar\n",
      "        Type:      31-byte null-padded ASCII string\n",
      "        Data:  \"Temperature was actually higher\"\n",
      "    Attribute: uid scalar\n",
      "        Type:      14-byte null-padded ASCII string\n",
      "        Data:  \"2019-07-12_001\"\n",
      "    Location:  2:6552\n",
      "    Links:     1\n",
      "    Storage:   56 logical bytes, 56 allocated bytes, 100.00% utilization\n",
      "    Type:      native long\n",
      "B.h5//data_raw/exp5      Dataset {10/10}\n",
      "    Attribute: temperature scalar\n",
      "        Type:      native double\n",
      "        Data:  25\n",
      "    Attribute: uid scalar\n",
      "        Type:      14-byte null-padded ASCII string\n",
      "        Data:  \"2019-07-13_001\"\n",
      "    Location:  2:8024\n",
      "    Links:     1\n",
      "    Storage:   80 logical bytes, 80 allocated bytes, 100.00% utilization\n",
      "    Type:      native long\n",
      "B.h5//data_raw/exp6      Dataset {6/6}\n",
      "    Attribute: temperature scalar\n",
      "        Type:      native double\n",
      "        Data:  25.3\n",
      "    Attribute: uid scalar\n",
      "        Type:      14-byte null-padded ASCII string\n",
      "        Data:  \"2019-07-13_002\"\n",
      "    Location:  2:7416\n",
      "    Links:     1\n",
      "    Storage:   48 logical bytes, 48 allocated bytes, 100.00% utilization\n",
      "    Type:      native double\n",
      "B.h5//data_raw/experiment_4 Dataset {7/7}\n",
      "    Attribute: temperature scalar\n",
      "        Type:      native double\n",
      "        Data:  27.4\n",
      "    Attribute: uid scalar\n",
      "        Type:      14-byte null-padded ASCII string\n",
      "        Data:  \"2019-07-12_002\"\n",
      "    Location:  2:6840\n",
      "    Links:     1\n",
      "    Storage:   56 logical bytes, 56 allocated bytes, 100.00% utilization\n",
      "    Type:      native long\n"
     ]
    }
   ],
   "source": [
    "h5ls --verbose --full --recursive {A,B}.h5"
   ]
  },
  {
   "cell_type": "markdown",
   "metadata": {},
   "source": [
    "---\n",
    "A basic way to detect changes is to use `h5ls` to extract metadata about the two files as text, and use `diff` to compare the two:"
   ]
  },
  {
   "cell_type": "code",
   "execution_count": 18,
   "metadata": {},
   "outputs": [
    {
     "name": "stdout",
     "output_type": "stream",
     "text": [
      "1c1\n",
      "< Opened \"A.h5\" with sec2 driver.\n",
      "---\n",
      "> Opened \"B.h5\" with sec2 driver.\n",
      "10a11,26\n",
      "> /data_clean/exp0         Dataset {2/2, 3/3}\n",
      ">     Attribute: threshold scalar\n",
      ">         Type:      native long\n",
      ">         Data:  4\n",
      ">     Location:  1:13368\n",
      ">     Links:     1\n",
      ">     Storage:   48 logical bytes, 48 allocated bytes, 100.00% utilization\n",
      ">     Type:      native double\n",
      "> /data_clean/exp2         Dataset {7/7}\n",
      ">     Attribute: threshold scalar\n",
      ">         Type:      native long\n",
      ">         Data:  20\n",
      ">     Location:  1:12768\n",
      ">     Links:     1\n",
      ">     Storage:   56 logical bytes, 56 allocated bytes, 100.00% utilization\n",
      ">     Type:      native double\n",
      "14c30\n",
      "< /data_raw/exp0           Dataset {6/6}\n",
      "---\n",
      "> /data_raw/exp0           Dataset {2/2, 3/3}\n",
      "21c37\n",
      "<     Location:  1:3240\n",
      "---\n",
      ">     Location:  1:7712\n",
      "25c41,44\n",
      "< /data_raw/exp1           Dataset {8/8}\n",
      "---\n",
      "> /data_raw/exp1           Group\n",
      ">     Location:  1:8776\n",
      ">     Links:     1\n",
      "> /data_raw/exp1/run0      Dataset {8/8}\n",
      "32c51,65\n",
      "<     Location:  1:5984\n",
      "---\n",
      ">     Location:  1:9480\n",
      ">     Links:     1\n",
      ">     Storage:   8 logical bytes, 8 allocated bytes, 100.00% utilization\n",
      ">     Type:      1-byte null-padded ASCII string\n",
      "> /data_raw/exp1/run1      Dataset {8/8}\n",
      ">     Attribute: description scalar\n",
      ">         Type:      34-byte null-padded ASCII string\n",
      ">         Data:  \"Second version of the same dataset\"\n",
      ">     Attribute: temperature scalar\n",
      ">         Type:      native double\n",
      ">         Data:  35.9\n",
      ">     Attribute: uid scalar\n",
      ">         Type:      14-byte null-padded ASCII string\n",
      ">         Data:  \"2019-07-03_002\"\n",
      ">     Location:  1:12136\n",
      "43c76\n",
      "<     Location:  1:6264\n",
      "---\n",
      ">     Location:  1:8472\n",
      "46c79\n",
      "<     Type:      native long\n",
      "---\n",
      ">     Type:      native double\n",
      "50c83,86\n",
      "<         Data:  25.7\n",
      "---\n",
      ">         Data:  30.7\n",
      ">     Attribute: temperature_comment scalar\n",
      ">         Type:      31-byte null-padded ASCII string\n",
      ">         Data:  \"Temperature was actually higher\"\n",
      "58,69c94\n",
      "< /data_raw/exp4           Dataset {7/7}\n",
      "<     Attribute: temperature scalar\n",
      "<         Type:      native double\n",
      "<         Data:  27.4\n",
      "<     Attribute: uid scalar\n",
      "<         Type:      14-byte null-padded ASCII string\n",
      "<         Data:  \"2019-07-12_002\"\n",
      "<     Location:  1:6840\n",
      "<     Links:     1\n",
      "<     Storage:   56 logical bytes, 56 allocated bytes, 100.00% utilization\n",
      "<     Type:      native long\n",
      "< /data_raw/exp5           Dataset {5/5}\n",
      "---\n",
      "> /data_raw/exp5           Dataset {10/10}\n",
      "76c101\n",
      "<     Location:  1:7128\n",
      "---\n",
      ">     Location:  1:8024\n",
      "78c103\n",
      "<     Storage:   40 logical bytes, 40 allocated bytes, 100.00% utilization\n",
      "---\n",
      ">     Storage:   80 logical bytes, 80 allocated bytes, 100.00% utilization\n",
      "90a116,126\n",
      "> /data_raw/experiment_4   Dataset {7/7}\n",
      ">     Attribute: temperature scalar\n",
      ">         Type:      native double\n",
      ">         Data:  27.4\n",
      ">     Attribute: uid scalar\n",
      ">         Type:      14-byte null-padded ASCII string\n",
      ">         Data:  \"2019-07-12_002\"\n",
      ">     Location:  1:6840\n",
      ">     Links:     1\n",
      ">     Storage:   56 logical bytes, 56 allocated bytes, 100.00% utilization\n",
      ">     Type:      native long\n"
     ]
    },
    {
     "ename": "",
     "evalue": "1",
     "execution_count": 18,
     "output_type": "error",
     "traceback": []
    }
   ],
   "source": [
    "diff <(h5ls --verbose --full --recursive A.h5) <(h5ls --verbose --full --recursive B.h5)"
   ]
  },
  {
   "cell_type": "markdown",
   "metadata": {},
   "source": [
    "## `h5diff`"
   ]
  },
  {
   "cell_type": "code",
   "execution_count": 1,
   "metadata": {},
   "outputs": [
    {
     "name": "stdout",
     "output_type": "stream",
     "text": [
      "-rw-r--r-- 1 ludo ludo 7.6K Jul 16 14:55 A.h5\n",
      "-rw-r--r-- 1 ludo ludo  14K Jul 16 17:39 B.h5\n"
     ]
    }
   ],
   "source": [
    "ls -lh *.h5"
   ]
  },
  {
   "cell_type": "code",
   "execution_count": 2,
   "metadata": {},
   "outputs": [
    {
     "name": "stdout",
     "output_type": "stream",
     "text": [
      "\n",
      "file1     file2\n",
      "---------------------------------------\n",
      "    x      x    /              \n",
      "    x      x    /analysis      \n",
      "    x      x    /data_clean    \n",
      "           x    /data_clean/exp0\n",
      "           x    /data_clean/exp2\n",
      "    x      x    /data_raw      \n",
      "    x      x    /data_raw/exp0 \n",
      "    x      x    /data_raw/exp1 \n",
      "           x    /data_raw/exp1/run0\n",
      "           x    /data_raw/exp1/run1\n",
      "    x      x    /data_raw/exp2 \n",
      "    x      x    /data_raw/exp3 \n",
      "    x           /data_raw/exp4 \n",
      "    x      x    /data_raw/exp5 \n",
      "    x      x    /data_raw/exp6 \n",
      "           x    /data_raw/experiment_4\n",
      "\n",
      "group  : </> and </>\n",
      "0 differences found\n",
      "group  : </analysis> and </analysis>\n",
      "0 differences found\n",
      "group  : </data_clean> and </data_clean>\n",
      "0 differences found\n",
      "group  : </data_raw> and </data_raw>\n",
      "0 differences found\n",
      "dataset: </data_raw/exp0> and </data_raw/exp0>\n",
      "Not comparable: </data_raw/exp0> has rank 1, dimensions [6], max dimensions [6]\n",
      "and </data_raw/exp0> has rank 2, dimensions [2x3], max dimensions [2x3]\n",
      "0 differences found\n",
      "attribute: <temperature of </data_raw/exp0>> and <temperature of </data_raw/exp0>>\n",
      "0 differences found\n",
      "attribute: <uid of </data_raw/exp0>> and <uid of </data_raw/exp0>>\n",
      "0 differences found\n",
      "Not comparable: </data_raw/exp1> is of type H5G_DATASET and </data_raw/exp1> is of type H5G_GROUP\n",
      "dataset: </data_raw/exp2> and </data_raw/exp2>\n",
      "Not comparable: </data_raw/exp2> is of class H5T_INTEGER and </data_raw/exp2> is of class H5T_FLOAT\n",
      "0 differences found\n",
      "attribute: <temperature of </data_raw/exp2>> and <temperature of </data_raw/exp2>>\n",
      "0 differences found\n",
      "attribute: <uid of </data_raw/exp2>> and <uid of </data_raw/exp2>>\n",
      "0 differences found\n",
      "dataset: </data_raw/exp3> and </data_raw/exp3>\n",
      "0 differences found\n",
      "attribute: <temperature of </data_raw/exp3>> and <temperature of </data_raw/exp3>>\n",
      "size:           H5S_SCALAR           H5S_SCALAR\n",
      "position        temperature of </data_raw/exp3> temperature of </data_raw/exp3> difference          \n",
      "------------------------------------------------------------\n",
      "                25.7            30.7            5              \n",
      "1 differences found\n",
      "attribute: <uid of </data_raw/exp3>> and <uid of </data_raw/exp3>>\n",
      "0 differences found\n",
      "dataset: </data_raw/exp5> and </data_raw/exp5>\n",
      "Not comparable: </data_raw/exp5> has rank 1, dimensions [5], max dimensions [5]\n",
      "and </data_raw/exp5> has rank 1, dimensions [10], max dimensions [10]\n",
      "0 differences found\n",
      "attribute: <temperature of </data_raw/exp5>> and <temperature of </data_raw/exp5>>\n",
      "0 differences found\n",
      "attribute: <uid of </data_raw/exp5>> and <uid of </data_raw/exp5>>\n",
      "0 differences found\n",
      "dataset: </data_raw/exp6> and </data_raw/exp6>\n",
      "size:           [6]           [6]\n",
      "position        exp6            exp6            difference          \n",
      "------------------------------------------------------------\n",
      "[ 0 ]          12.1            10.866          1.234          \n",
      "[ 1 ]          41              42.234          1.234          \n",
      "[ 2 ]          57              55.766          1.234          \n",
      "[ 3 ]          17              18.234          1.234          \n",
      "[ 4 ]          30              28.766          1.234          \n",
      "[ 5 ]          23.2            24.434          1.234          \n",
      "6 differences found\n",
      "attribute: <temperature of </data_raw/exp6>> and <temperature of </data_raw/exp6>>\n",
      "0 differences found\n",
      "attribute: <uid of </data_raw/exp6>> and <uid of </data_raw/exp6>>\n",
      "0 differences found\n",
      "--------------------------------\n",
      "Some objects are not comparable\n",
      "--------------------------------\n",
      "Use -c for a list of objects without details of differences.\n"
     ]
    },
    {
     "ename": "",
     "evalue": "1",
     "execution_count": 2,
     "output_type": "error",
     "traceback": []
    }
   ],
   "source": [
    "h5diff -v A.h5 B.h5"
   ]
  },
  {
   "cell_type": "code",
   "execution_count": 3,
   "metadata": {},
   "outputs": [
    {
     "name": "stdout",
     "output_type": "stream",
     "text": [
      "Not comparable: </data_raw/exp0> has rank 1, dimensions [6], max dimensions [6]\n",
      "and </data_raw/exp0> has rank 2, dimensions [2x3], max dimensions [2x3]\n",
      "Not comparable: </data_raw/exp1> is of type H5G_DATASET and </data_raw/exp1> is of type H5G_GROUP\n",
      "Not comparable: </data_raw/exp2> is of class H5T_INTEGER and </data_raw/exp2> is of class H5T_FLOAT\n",
      "attribute: <temperature of </data_raw/exp3>> and <temperature of </data_raw/exp3>>\n",
      "1 differences found\n",
      "Not comparable: </data_raw/exp5> has rank 1, dimensions [5], max dimensions [5]\n",
      "and </data_raw/exp5> has rank 1, dimensions [10], max dimensions [10]\n",
      "dataset: </data_raw/exp6> and </data_raw/exp6>\n",
      "6 differences found\n"
     ]
    },
    {
     "ename": "",
     "evalue": "1",
     "execution_count": 3,
     "output_type": "error",
     "traceback": []
    }
   ],
   "source": [
    "h5diff -c A.h5 B.h5"
   ]
  },
  {
   "cell_type": "markdown",
   "metadata": {},
   "source": [
    "### Comparing files\n",
    "\n",
    "- `h5diff` correctly detects \"heterogeneous\" differences, i.e. `type_h5`, `ndim`, `shape`, `dtype`, but treats them as errors (exit code = 1)\n",
    "- Only \"proper\" type of difference is elementwise comparison\n",
    "    - Applied to values of comparable datasets (same `ndim`, `shape`, and `dtype`), and values of attributes\n",
    "    - This is because attributes values are implemented as smaller/simplified generic data types\n",
    "    - In many circumstances (especially when values are strings) changes in attribute values should be considered atomically, i.e. without doing elementwise comparison\n",
    "    - There are no additional delta metrics calculated from elementwise comparison (i.e. mean/std of delta)\n",
    "    - Another possible comparison would be between datasets with same `ndim` and `dtype`, but different `shape`, i.e. comparing datasets with similar structure to which elements were removed/added"
   ]
  },
  {
   "cell_type": "markdown",
   "metadata": {},
   "source": [
    "### Comparing specific objects in different files"
   ]
  },
  {
   "cell_type": "code",
   "execution_count": 4,
   "metadata": {},
   "outputs": [
    {
     "name": "stdout",
     "output_type": "stream",
     "text": [
      "dataset: </data_raw/exp4> and </data_raw/experiment_4>\n",
      "size:           [7]           [7]\n",
      "position        exp4            experiment_4    difference          \n",
      "------------------------------------------------------------\n",
      "[ 0 ]          53              0               53             \n",
      "1 differences found\n",
      "attribute: <temperature of </data_raw/exp4>> and <temperature of </data_raw/experiment_4>>\n",
      "0 differences found\n",
      "attribute: <uid of </data_raw/exp4>> and <uid of </data_raw/experiment_4>>\n",
      "0 differences found\n"
     ]
    },
    {
     "ename": "",
     "evalue": "1",
     "execution_count": 4,
     "output_type": "error",
     "traceback": []
    }
   ],
   "source": [
    "h5diff -v A.h5 B.h5 data_raw/exp4 data_raw/experiment_4"
   ]
  },
  {
   "cell_type": "markdown",
   "metadata": {},
   "source": [
    "\n",
    "- Works by supplying the name/path directly to identify comparable objects\n",
    "- Does not support automatically defining correspondences between multiple pairs of objects that have different paths in `A` and `B`"
   ]
  },
  {
   "cell_type": "markdown",
   "metadata": {},
   "source": [
    "### Comparing objects with different paths in the same file"
   ]
  },
  {
   "cell_type": "code",
   "execution_count": 9,
   "metadata": {},
   "outputs": [
    {
     "name": "stdout",
     "output_type": "stream",
     "text": [
      "dataset: </data_raw/exp2> and </data_clean/exp2>\n",
      "size:           [7]           [7]\n",
      "position        exp2            exp2            difference          \n",
      "------------------------------------------------------------\n",
      "[ 1 ]          1               nan             -nan           \n",
      "[ 3 ]          3               nan             -nan           \n",
      "[ 4 ]          8               nan             -nan           \n",
      "[ 5 ]          5               nan             -nan           \n",
      "4 differences found\n"
     ]
    },
    {
     "ename": "",
     "evalue": "1",
     "execution_count": 9,
     "output_type": "error",
     "traceback": []
    }
   ],
   "source": [
    "h5diff -vvv B.h5 B.h5 data_raw/exp2 data_clean/exp2"
   ]
  },
  {
   "cell_type": "markdown",
   "metadata": {},
   "source": [
    "- `nan`s cause an error, even though NaNs are supported by numpy and (one would expect) by HDF5 as well"
   ]
  },
  {
   "cell_type": "markdown",
   "metadata": {},
   "source": [
    "## `ndiff`\n",
    "\n",
    "- This is the script at the basis of the current Dac-Man HDF5 plugin at `dacman.plugins.hdf5diff`"
   ]
  },
  {
   "cell_type": "code",
   "execution_count": 10,
   "metadata": {},
   "outputs": [
    {
     "name": "stdout",
     "output_type": "stream",
     "text": [
      "/opt/conda/envs/dev-dacman/bin/python\n"
     ]
    }
   ],
   "source": [
    "conda activate dev-dacman\n",
    "which python"
   ]
  },
  {
   "cell_type": "code",
   "execution_count": 21,
   "metadata": {},
   "outputs": [
    {
     "name": "stdout",
     "output_type": "stream",
     "text": [
      "args=['A.h5', 'B.h5']\n",
      "Comparing 'A.h5' and 'B.h5'\n",
      "------------------------------\n",
      "Examining /\n",
      "\tanalysis\n",
      "\tdata_clean\n",
      "\tdata_raw\n",
      "------------------------------\n",
      "Examining /analysis/\n",
      "------------------------------\n",
      "Examining /data_clean/\n",
      "** Element 'exp0' only in 'B.h5' (DIFF_UNIQUE_B)**\n",
      "** Element 'exp2' only in 'B.h5' (DIFF_UNIQUE_B)**\n",
      "------------------------------\n",
      "Examining /data_raw/\n",
      "** Element 'exp4' only in 'A.h5' (DIFF_UNIQUE_A)**\n",
      "** Element 'experiment_4' only in 'B.h5' (DIFF_UNIQUE_B)**\n",
      "\texp0\n",
      "\texp1\n",
      "**  Different element types: 'dataset' and 'group' (DIFF_OBJECTS)\n",
      "\texp2\n",
      "\texp3\n",
      "** Attribute 'temperature_comment' only in 'B.h5' (DIFF_UNIQ_ATTR_B)**\n",
      "\texp5\n",
      "\texp6\n"
     ]
    }
   ],
   "source": [
    "python -m ndiff A.h5 B.h5"
   ]
  },
  {
   "cell_type": "code",
   "execution_count": 23,
   "metadata": {},
   "outputs": [
    {
     "name": "stdout",
     "output_type": "stream",
     "text": [
      "args=['A.h5', 'B.h5', 'data_raw/']\n",
      "Comparing 'A.h5' and 'B.h5'\n",
      "------------------------------\n",
      "Examining /\n",
      "** Element 'exp4' only in 'A.h5' (DIFF_UNIQUE_A)**\n",
      "** Element 'experiment_4' only in 'B.h5' (DIFF_UNIQUE_B)**\n",
      "\texp0\n",
      "\texp1\n",
      "**  Different element types: 'dataset' and 'group' (DIFF_OBJECTS)\n",
      "\texp2\n",
      "\texp3\n",
      "** Attribute 'temperature_comment' only in 'B.h5' (DIFF_UNIQ_ATTR_B)**\n",
      "\texp5\n",
      "\texp6\n"
     ]
    }
   ],
   "source": [
    "python -m ndiff A.h5 B.h5 data_raw/"
   ]
  },
  {
   "cell_type": "markdown",
   "metadata": {},
   "source": [
    "- The change in value for attribute `temperature` in `/data_raw/exp3` is not detected\n",
    "- Attributes of Objects with different `type_h5` are not compared, even though in principle they could\n",
    "- `num_objs` in Groups (including Files) not compared"
   ]
  },
  {
   "cell_type": "markdown",
   "metadata": {},
   "source": [
    "### Specifying objects to compare\n",
    "\n",
    "- Quick modification to `ndiff.py` to support 2, 3 or 4 CLI args\n",
    "- Same semantics as `h5diff`\n",
    "\n",
    "As it is, directly comparing Datasets not supported; only Groups"
   ]
  },
  {
   "cell_type": "code",
   "execution_count": 33,
   "metadata": {},
   "outputs": [
    {
     "name": "stdout",
     "output_type": "stream",
     "text": [
      "args=['A.h5', 'B.h5', 'data_raw/exp4', 'data_raw/experiment_4']\n",
      "Comparing 'A.h5' and 'B.h5'\n",
      "------------------------------\n",
      "Examining /\n",
      "Traceback (most recent call last):\n",
      "  File \"/opt/conda/envs/dev-dacman/lib/python3.6/runpy.py\", line 193, in _run_module_as_main\n",
      "    \"__main__\", mod_spec)\n",
      "  File \"/opt/conda/envs/dev-dacman/lib/python3.6/runpy.py\", line 85, in _run_code\n",
      "    exec(code, run_globals)\n",
      "  File \"/home/ludo/lbl/deduce/try-hdf5/ndiff.py\", line 144, in <module>\n",
      "    main()\n",
      "  File \"/home/ludo/lbl/deduce/try-hdf5/ndiff.py\", line 140, in main\n",
      "    compare(file1, file2, path_file1=path_file1, path_file2=path_file2)\n",
      "  File \"/home/ludo/lbl/deduce/try-hdf5/ndiff.py\", line 124, in compare\n",
      "    diff_groups(file1, f1[path_file1], file2, f2[path_file2], \"/\")\n",
      "  File \"/home/ludo/lbl/deduce/try-hdf5/ndiff.py\", line 49, in diff_groups\n",
      "    desc1 = evaluate_group(path, grp1)\n",
      "  File \"/home/ludo/lbl/deduce/try-hdf5/ndiff.py\", line 36, in evaluate_group\n",
      "    for k,v in grp.items():\n",
      "AttributeError: 'Dataset' object has no attribute 'items'\n"
     ]
    },
    {
     "ename": "",
     "evalue": "1",
     "execution_count": 33,
     "output_type": "error",
     "traceback": []
    }
   ],
   "source": [
    "python -m ndiff A.h5 B.h5 data_raw/exp4 data_raw/experiment_4"
   ]
  },
  {
   "cell_type": "code",
   "execution_count": 34,
   "metadata": {},
   "outputs": [
    {
     "name": "stdout",
     "output_type": "stream",
     "text": [
      "args=['A.h5', 'B.h5', 'data_raw/']\n",
      "Comparing 'A.h5' and 'B.h5'\n",
      "------------------------------\n",
      "Examining /\n",
      "** Element 'exp4' only in 'A.h5' (DIFF_UNIQUE_A)**\n",
      "** Element 'experiment_4' only in 'B.h5' (DIFF_UNIQUE_B)**\n",
      "\texp0\n",
      "\texp1\n",
      "**  Different element types: 'dataset' and 'group' (DIFF_OBJECTS)\n",
      "\texp2\n",
      "\texp3\n",
      "** Attribute 'temperature_comment' only in 'B.h5' (DIFF_UNIQ_ATTR_B)**\n",
      "\texp5\n",
      "\texp6\n"
     ]
    }
   ],
   "source": [
    "python -m ndiff A.h5 B.h5 data_raw/"
   ]
  },
  {
   "cell_type": "code",
   "execution_count": 32,
   "metadata": {},
   "outputs": [
    {
     "name": "stdout",
     "output_type": "stream",
     "text": [
      "args=['B.h5', 'B.h5', 'data_raw/', 'data_clean/']\n",
      "Comparing 'B.h5' and 'B.h5'\n",
      "------------------------------\n",
      "Examining /\n",
      "** Element 'exp1' only in 'B.h5' (DIFF_UNIQUE_A)**\n",
      "** Element 'exp3' only in 'B.h5' (DIFF_UNIQUE_A)**\n",
      "** Element 'exp5' only in 'B.h5' (DIFF_UNIQUE_A)**\n",
      "** Element 'exp6' only in 'B.h5' (DIFF_UNIQUE_A)**\n",
      "** Element 'experiment_4' only in 'B.h5' (DIFF_UNIQUE_A)**\n",
      "\texp0\n",
      "** Attribute 'temperature' only in 'B.h5' (DIFF_UNIQ_ATTR_A)**\n",
      "** Attribute 'uid' only in 'B.h5' (DIFF_UNIQ_ATTR_A)**\n",
      "** Attribute 'threshold' only in 'B.h5' (DIFF_UNIQ_ATTR_B)**\n",
      "\texp2\n",
      "** Attribute 'temperature' only in 'B.h5' (DIFF_UNIQ_ATTR_A)**\n",
      "** Attribute 'uid' only in 'B.h5' (DIFF_UNIQ_ATTR_A)**\n",
      "** Attribute 'threshold' only in 'B.h5' (DIFF_UNIQ_ATTR_B)**\n"
     ]
    }
   ],
   "source": [
    "python -m ndiff B.h5 B.h5 data_raw/ data_clean/"
   ]
  },
  {
   "cell_type": "code",
   "execution_count": null,
   "metadata": {},
   "outputs": [],
   "source": []
  }
 ],
 "metadata": {
  "kernelspec": {
   "display_name": "Bash",
   "language": "bash",
   "name": "bash"
  },
  "language_info": {
   "codemirror_mode": "shell",
   "file_extension": ".sh",
   "mimetype": "text/x-sh",
   "name": "bash"
  }
 },
 "nbformat": 4,
 "nbformat_minor": 2
}
