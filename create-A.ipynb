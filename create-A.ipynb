{
 "cells": [
  {
   "cell_type": "code",
   "execution_count": 1,
   "metadata": {},
   "outputs": [],
   "source": [
    "import h5py\n",
    "import numpy as np"
   ]
  },
  {
   "cell_type": "markdown",
   "metadata": {},
   "source": [
    "# Create test file `A`"
   ]
  },
  {
   "cell_type": "code",
   "execution_count": 2,
   "metadata": {},
   "outputs": [
    {
     "data": {
      "text/plain": [
       "<HDF5 file \"A.h5\" (mode r+)>"
      ]
     },
     "execution_count": 2,
     "metadata": {},
     "output_type": "execute_result"
    }
   ],
   "source": [
    "A = h5py.File('A.h5', mode='w')\n",
    "A"
   ]
  },
  {
   "cell_type": "code",
   "execution_count": 3,
   "metadata": {},
   "outputs": [
    {
     "data": {
      "text/plain": [
       "<KeysViewHDF5 ['analysis', 'data_clean', 'data_raw']>"
      ]
     },
     "execution_count": 3,
     "metadata": {},
     "output_type": "execute_result"
    }
   ],
   "source": [
    "A.create_group('data_raw')\n",
    "A.create_group('data_clean')\n",
    "A.create_group('analysis')\n",
    "A.keys()"
   ]
  },
  {
   "cell_type": "code",
   "execution_count": 4,
   "metadata": {},
   "outputs": [
    {
     "data": {
      "text/plain": [
       "<HDF5 dataset \"exp0\": shape (6,), type \"<i8\">"
      ]
     },
     "execution_count": 4,
     "metadata": {},
     "output_type": "execute_result"
    }
   ],
   "source": [
    "data0 = np.array([4, 1, 6, 8, 1, 12])\n",
    "dset0 = A['data_raw'].create_dataset('exp0', data=data0)\n",
    "\n",
    "dset0.attrs.create('uid', b'2019-07-01_001')\n",
    "dset0.attrs.create('temperature', 23.20)\n",
    "\n",
    "dset0"
   ]
  },
  {
   "cell_type": "code",
   "execution_count": 5,
   "metadata": {},
   "outputs": [
    {
     "data": {
      "text/plain": [
       "<HDF5 dataset \"exp1\": shape (8,), type \"|S1\">"
      ]
     },
     "execution_count": 5,
     "metadata": {},
     "output_type": "execute_result"
    }
   ],
   "source": [
    "data1 = np.array(list('abcdefhg'), dtype='|S')\n",
    "dset1 = A['data_raw'].create_dataset('exp1', data=data1)\n",
    "\n",
    "dset1.attrs.create('uid', b'2019-07-03_001')\n",
    "dset1.attrs.create('temperature', 35.9)\n",
    "\n",
    "dset1"
   ]
  },
  {
   "cell_type": "code",
   "execution_count": 6,
   "metadata": {},
   "outputs": [
    {
     "data": {
      "text/plain": [
       "<HDF5 dataset \"exp2\": shape (7,), type \"<i8\">"
      ]
     },
     "execution_count": 6,
     "metadata": {},
     "output_type": "execute_result"
    }
   ],
   "source": [
    "data2 = np.array([32, 1, 52, 3, 8, 5, 29])\n",
    "dset2 = A['data_raw'].create_dataset('exp2', data=data2)\n",
    "\n",
    "dset2.attrs.create('uid', b'2019-07-09_001')\n",
    "dset2.attrs.create('temperature', 27.6)\n",
    "\n",
    "dset2"
   ]
  },
  {
   "cell_type": "code",
   "execution_count": 7,
   "metadata": {},
   "outputs": [
    {
     "data": {
      "text/plain": [
       "<HDF5 dataset \"exp3\": shape (7,), type \"<i8\">"
      ]
     },
     "execution_count": 7,
     "metadata": {},
     "output_type": "execute_result"
    }
   ],
   "source": [
    "data3 = np.array([3, 42, 5, 23, 26, 48, 1])\n",
    "dset3 = A['data_raw'].create_dataset('exp3', data=data3)\n",
    "\n",
    "dset3.attrs.create('uid', b'2019-07-12_001')\n",
    "dset3.attrs.create('temperature', 25.7)\n",
    "\n",
    "dset3"
   ]
  },
  {
   "cell_type": "code",
   "execution_count": 8,
   "metadata": {},
   "outputs": [
    {
     "data": {
      "text/plain": [
       "<HDF5 dataset \"exp4\": shape (7,), type \"<i8\">"
      ]
     },
     "execution_count": 8,
     "metadata": {},
     "output_type": "execute_result"
    }
   ],
   "source": [
    "data4 = np.array([53, 3, 26, 7, 39, 4, 9])\n",
    "dset4 = A['data_raw'].create_dataset('exp4', data=data4)\n",
    "\n",
    "dset4.attrs.create('uid', b'2019-07-12_002')\n",
    "dset4.attrs.create('temperature', 27.4)\n",
    "\n",
    "dset4"
   ]
  },
  {
   "cell_type": "code",
   "execution_count": 9,
   "metadata": {},
   "outputs": [
    {
     "data": {
      "text/plain": [
       "<HDF5 dataset \"exp5\": shape (5,), type \"<i8\">"
      ]
     },
     "execution_count": 9,
     "metadata": {},
     "output_type": "execute_result"
    }
   ],
   "source": [
    "data5 = np.arange(5)\n",
    "dset5 = A['data_raw'].create_dataset('exp5', data=data5)\n",
    "\n",
    "dset5.attrs.create('uid', b'2019-07-13_001')\n",
    "dset5.attrs.create('temperature', 25.)\n",
    "\n",
    "dset5"
   ]
  },
  {
   "cell_type": "code",
   "execution_count": 10,
   "metadata": {},
   "outputs": [
    {
     "data": {
      "text/plain": [
       "<HDF5 dataset \"exp6\": shape (6,), type \"<f8\">"
      ]
     },
     "execution_count": 10,
     "metadata": {},
     "output_type": "execute_result"
    }
   ],
   "source": [
    "data6 = np.array([12.1, 41., 57., 17., 30., 23.2])\n",
    "dset6 = A['data_raw'].create_dataset('exp6', data=data6)\n",
    "\n",
    "dset6.attrs.create('uid', b'2019-07-13_002')\n",
    "dset6.attrs.create('temperature', 25.3)\n",
    "\n",
    "dset6"
   ]
  },
  {
   "cell_type": "code",
   "execution_count": 11,
   "metadata": {},
   "outputs": [
    {
     "data": {
      "text/plain": [
       "<KeysViewHDF5 ['exp0', 'exp1', 'exp2', 'exp3', 'exp4', 'exp5', 'exp6']>"
      ]
     },
     "execution_count": 11,
     "metadata": {},
     "output_type": "execute_result"
    }
   ],
   "source": [
    "A['data_raw'].keys()"
   ]
  },
  {
   "cell_type": "markdown",
   "metadata": {},
   "source": [
    "### Attributes\n",
    "\n",
    "The `uid` field can be used instead of the name to index the files"
   ]
  },
  {
   "cell_type": "markdown",
   "metadata": {},
   "source": [
    "Always close the file, otherwise it won't be accessible by other processes."
   ]
  },
  {
   "cell_type": "code",
   "execution_count": 12,
   "metadata": {},
   "outputs": [
    {
     "data": {
      "text/plain": [
       "<KeysViewHDF5 ['analysis', 'data_clean', 'data_raw']>"
      ]
     },
     "execution_count": 12,
     "metadata": {},
     "output_type": "execute_result"
    }
   ],
   "source": [
    "A.keys()"
   ]
  },
  {
   "cell_type": "code",
   "execution_count": 13,
   "metadata": {},
   "outputs": [],
   "source": [
    "A.close()"
   ]
  }
 ],
 "metadata": {
  "kernelspec": {
   "display_name": "dev-dacman",
   "language": "python",
   "name": "dev-dacman"
  },
  "language_info": {
   "codemirror_mode": {
    "name": "ipython",
    "version": 3
   },
   "file_extension": ".py",
   "mimetype": "text/x-python",
   "name": "python",
   "nbconvert_exporter": "python",
   "pygments_lexer": "ipython3",
   "version": "3.6.8"
  }
 },
 "nbformat": 4,
 "nbformat_minor": 2
}
