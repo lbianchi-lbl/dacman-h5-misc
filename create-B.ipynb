{
 "cells": [
  {
   "cell_type": "markdown",
   "metadata": {},
   "source": [
    "# Create test file `B`"
   ]
  },
  {
   "cell_type": "markdown",
   "metadata": {},
   "source": [
    "- From a dataset, create a group instead of a dataset\n",
    "    - e.g. by turning `run1` to `run1/a`, `run1/b`\n",
    "    - Maybe `run1` -> `run1/a`?\n",
    "- Change dtype of dataset\n",
    "- Change ndim of dataset\n",
    "- Change shape of dataset while keeping ndim the same"
   ]
  },
  {
   "cell_type": "code",
   "execution_count": 1,
   "metadata": {},
   "outputs": [
    {
     "name": "stdout",
     "output_type": "stream",
     "text": [
      "/home/ludo/lbl/deduce/try-hdf5\n"
     ]
    }
   ],
   "source": [
    "!pwd"
   ]
  },
  {
   "cell_type": "code",
   "execution_count": 2,
   "metadata": {},
   "outputs": [
    {
     "name": "stdout",
     "output_type": "stream",
     "text": [
      "-rw-r--r-- 1 ludo ludo 7.6K Jul 16 14:55 A.h5\n",
      "-rw-r--r-- 1 ludo ludo  14K Jul 16 17:21 B.h5\n"
     ]
    }
   ],
   "source": [
    "!ls -lh *.h5"
   ]
  },
  {
   "cell_type": "code",
   "execution_count": 3,
   "metadata": {},
   "outputs": [],
   "source": [
    "!cp A.h5 B.h5"
   ]
  },
  {
   "cell_type": "code",
   "execution_count": 4,
   "metadata": {},
   "outputs": [
    {
     "name": "stdout",
     "output_type": "stream",
     "text": [
      "-rw-r--r-- 1 ludo ludo 7.6K Jul 16 14:55 A.h5\n",
      "-rw-r--r-- 1 ludo ludo 7.6K Jul 16 17:39 B.h5\n"
     ]
    }
   ],
   "source": [
    "!ls -lh *.h5"
   ]
  },
  {
   "cell_type": "code",
   "execution_count": 5,
   "metadata": {},
   "outputs": [],
   "source": [
    "import h5py\n",
    "import numpy as np"
   ]
  },
  {
   "cell_type": "code",
   "execution_count": 6,
   "metadata": {},
   "outputs": [
    {
     "data": {
      "text/plain": [
       "<HDF5 file \"B.h5\" (mode r+)>"
      ]
     },
     "execution_count": 6,
     "metadata": {},
     "output_type": "execute_result"
    }
   ],
   "source": [
    "B = h5py.File('B.h5', mode='r+')\n",
    "B"
   ]
  },
  {
   "cell_type": "code",
   "execution_count": 7,
   "metadata": {},
   "outputs": [
    {
     "data": {
      "text/plain": [
       "<KeysViewHDF5 ['analysis', 'data_clean', 'data_raw']>"
      ]
     },
     "execution_count": 7,
     "metadata": {},
     "output_type": "execute_result"
    }
   ],
   "source": [
    "B.keys()"
   ]
  },
  {
   "cell_type": "code",
   "execution_count": 8,
   "metadata": {},
   "outputs": [
    {
     "data": {
      "text/plain": [
       "<HDF5 group \"/data_raw\" (7 members)>"
      ]
     },
     "execution_count": 8,
     "metadata": {},
     "output_type": "execute_result"
    }
   ],
   "source": [
    "B['data_raw']"
   ]
  },
  {
   "cell_type": "markdown",
   "metadata": {},
   "source": [
    "### Change dataset ndim and shape\n",
    "\n",
    "- In general it's possible to modify in-place a dataset's content using the `dataset[...] = arr` syntax\n",
    "- This requires the shape to be identical, so in this case we have to delete the existing group and recreate it using the same name\n",
    "- Attributes/comments, if present, must be copied manually?"
   ]
  },
  {
   "cell_type": "code",
   "execution_count": 9,
   "metadata": {},
   "outputs": [
    {
     "data": {
      "text/plain": [
       "<HDF5 dataset \"exp0\": shape (2, 3), type \"<i8\">"
      ]
     },
     "execution_count": 9,
     "metadata": {},
     "output_type": "execute_result"
    }
   ],
   "source": [
    "dset0 = B['data_raw/exp0']\n",
    "\n",
    "del B['data_raw/exp0']\n",
    "B.create_dataset('data_raw/exp0', data=dset0[()].reshape(2, 3))\n",
    "\n",
    "for key, val in dset0.attrs.items():\n",
    "    B['data_raw/exp0'].attrs.create(key, val)\n",
    "\n",
    "B['data_raw/exp0']"
   ]
  },
  {
   "cell_type": "markdown",
   "metadata": {},
   "source": [
    "### Change dataset `shape` with same `ndim`"
   ]
  },
  {
   "cell_type": "code",
   "execution_count": 10,
   "metadata": {},
   "outputs": [
    {
     "data": {
      "text/plain": [
       "<HDF5 dataset \"exp5\": shape (5,), type \"<i8\">"
      ]
     },
     "execution_count": 10,
     "metadata": {},
     "output_type": "execute_result"
    }
   ],
   "source": [
    "dset5 = B['data_raw/exp5']\n",
    "dset5"
   ]
  },
  {
   "cell_type": "code",
   "execution_count": 11,
   "metadata": {},
   "outputs": [
    {
     "data": {
      "text/plain": [
       "<HDF5 dataset \"exp5\": shape (10,), type \"<i8\">"
      ]
     },
     "execution_count": 11,
     "metadata": {},
     "output_type": "execute_result"
    }
   ],
   "source": [
    "del B['data_raw/exp5']\n",
    "B.create_dataset('data_raw/exp5', data=np.append(dset5[()], dset5[()][::-1]))\n",
    "\n",
    "for key, val in dset5.attrs.items():\n",
    "    B['data_raw/exp5'].attrs.create(key, val)\n",
    "\n",
    "B['data_raw/exp5']"
   ]
  },
  {
   "cell_type": "markdown",
   "metadata": {},
   "source": [
    "### Change dataset dtype"
   ]
  },
  {
   "cell_type": "code",
   "execution_count": 12,
   "metadata": {},
   "outputs": [
    {
     "data": {
      "text/plain": [
       "<HDF5 dataset \"exp2\": shape (7,), type \"<i8\">"
      ]
     },
     "execution_count": 12,
     "metadata": {},
     "output_type": "execute_result"
    }
   ],
   "source": [
    "dset2 = B['data_raw/exp2']\n",
    "dset2"
   ]
  },
  {
   "cell_type": "code",
   "execution_count": 13,
   "metadata": {},
   "outputs": [
    {
     "data": {
      "text/plain": [
       "<HDF5 dataset \"exp2\": shape (7,), type \"<f8\">"
      ]
     },
     "execution_count": 13,
     "metadata": {},
     "output_type": "execute_result"
    }
   ],
   "source": [
    "del B['data_raw/exp2']\n",
    "B.create_dataset('data_raw/exp2', data=dset2[()].astype(float))\n",
    "\n",
    "for key, val in dset2.attrs.items():\n",
    "    B['data_raw/exp2'].attrs.create(key, val)\n",
    "\n",
    "B['data_raw/exp2']"
   ]
  },
  {
   "cell_type": "markdown",
   "metadata": {},
   "source": [
    "### Replace a dataset with a group\n",
    "\n",
    "- Split `exp1` into two runs, `run0` and `run1`\n",
    "- `exp1` is now a group instead of a dataset"
   ]
  },
  {
   "cell_type": "code",
   "execution_count": 14,
   "metadata": {},
   "outputs": [
    {
     "data": {
      "text/plain": [
       "<HDF5 dataset (\"anonymous\"): shape (8,), type \"|S1\">"
      ]
     },
     "execution_count": 14,
     "metadata": {},
     "output_type": "execute_result"
    }
   ],
   "source": [
    "dset1 = B['data_raw/exp1']\n",
    "\n",
    "del B['data_raw/exp1']\n",
    "dset1"
   ]
  },
  {
   "cell_type": "code",
   "execution_count": 15,
   "metadata": {},
   "outputs": [
    {
     "data": {
      "text/plain": [
       "<HDF5 group \"/data_raw/exp1\" (0 members)>"
      ]
     },
     "execution_count": 15,
     "metadata": {},
     "output_type": "execute_result"
    }
   ],
   "source": [
    "grp1 = B['data_raw'].create_group('exp1')\n",
    "grp1"
   ]
  },
  {
   "cell_type": "code",
   "execution_count": 16,
   "metadata": {},
   "outputs": [
    {
     "data": {
      "text/plain": [
       "<HDF5 dataset \"run1\": shape (8,), type \"|S1\">"
      ]
     },
     "execution_count": 16,
     "metadata": {},
     "output_type": "execute_result"
    }
   ],
   "source": [
    "data1 = dset1[()]\n",
    "\n",
    "grp1.create_dataset('run0', data=data1)\n",
    "grp1.create_dataset('run1', data=data1[::-1])"
   ]
  },
  {
   "cell_type": "code",
   "execution_count": 17,
   "metadata": {},
   "outputs": [],
   "source": [
    "for k, v in dset1.attrs.items():\n",
    "    grp1['run0'].attrs.create(k, v)\n",
    "    grp1['run1'].attrs.create(k, v)\n",
    "grp1['run1'].attrs.modify('uid', b'2019-07-03_002')\n",
    "grp1['run1'].attrs.create('description', b'Second version of the same dataset')"
   ]
  },
  {
   "cell_type": "markdown",
   "metadata": {},
   "source": [
    "### Change dataset `value` (same `shape`)\n",
    "\n",
    "- Using array of repeated single value with alternating sign (+, -) so that:\n",
    "    - Mean delta is 0 (if len is even)\n",
    "    - Test signed vs unsigned delta"
   ]
  },
  {
   "cell_type": "code",
   "execution_count": 18,
   "metadata": {},
   "outputs": [
    {
     "data": {
      "text/plain": [
       "<HDF5 dataset \"exp6\": shape (6,), type \"<f8\">"
      ]
     },
     "execution_count": 18,
     "metadata": {},
     "output_type": "execute_result"
    }
   ],
   "source": [
    "delta6 = [-1.234, 1.234] * 3\n",
    "B['data_raw/exp6'][...] = B['data_raw/exp6'][...] + delta6\n",
    "B['data_raw/exp6']"
   ]
  },
  {
   "cell_type": "markdown",
   "metadata": {},
   "source": [
    "### Change dataset attributes"
   ]
  },
  {
   "cell_type": "code",
   "execution_count": 19,
   "metadata": {},
   "outputs": [],
   "source": [
    "dset3_attrs = B['data_raw/exp3'].attrs\n",
    "dset3_attrs.modify('temperature', dset3_attrs['temperature'] + 5.)\n",
    "dset3_attrs.create('temperature_comment', b'Temperature was actually higher')"
   ]
  },
  {
   "cell_type": "markdown",
   "metadata": {},
   "source": [
    "### Add/remove datasets"
   ]
  },
  {
   "cell_type": "markdown",
   "metadata": {},
   "source": [
    "#### Move (\"rename\") existing dataset\n",
    "\n",
    "- This will show up as `ADDED`/`REMOVED` if using `name` as key\n",
    "- If using e.g. `attrs['uid']` as key, it will show up as renamed"
   ]
  },
  {
   "cell_type": "code",
   "execution_count": 20,
   "metadata": {},
   "outputs": [],
   "source": [
    "B['data_raw'].move('exp4', 'experiment_4')\n",
    "\n",
    "# introducing a single-value change for verification\n",
    "B['data_raw/experiment_4'][0] = 0."
   ]
  },
  {
   "cell_type": "markdown",
   "metadata": {},
   "source": [
    "#### Simulating a data cleaning step"
   ]
  },
  {
   "cell_type": "code",
   "execution_count": 21,
   "metadata": {},
   "outputs": [],
   "source": [
    "def clean_data(file, key_raw, key_clean, threshold=10.):\n",
    "    raw = file[key_raw][()]\n",
    "    clean = np.where(raw > threshold, raw, np.nan)\n",
    "    dset_clean = file.create_dataset(key_clean, data=clean)\n",
    "    dset_clean.attrs.create('threshold', threshold)\n",
    "    return dset_clean"
   ]
  },
  {
   "cell_type": "code",
   "execution_count": 22,
   "metadata": {},
   "outputs": [
    {
     "data": {
      "text/plain": [
       "<HDF5 dataset \"exp2\": shape (7,), type \"<f8\">"
      ]
     },
     "execution_count": 22,
     "metadata": {},
     "output_type": "execute_result"
    }
   ],
   "source": [
    "clean_data(B, 'data_raw/exp2', 'data_clean/exp2', threshold=20)"
   ]
  },
  {
   "cell_type": "code",
   "execution_count": 23,
   "metadata": {},
   "outputs": [
    {
     "data": {
      "text/plain": [
       "<HDF5 dataset \"exp0\": shape (2, 3), type \"<f8\">"
      ]
     },
     "execution_count": 23,
     "metadata": {},
     "output_type": "execute_result"
    }
   ],
   "source": [
    "clean_data(B, 'data_raw/exp0', 'data_clean/exp0', threshold=4)"
   ]
  },
  {
   "cell_type": "code",
   "execution_count": 24,
   "metadata": {},
   "outputs": [
    {
     "data": {
      "text/plain": [
       "<HDF5 group \"/data_clean\" (2 members)>"
      ]
     },
     "execution_count": 24,
     "metadata": {},
     "output_type": "execute_result"
    }
   ],
   "source": [
    "B['data_clean']"
   ]
  },
  {
   "cell_type": "code",
   "execution_count": 25,
   "metadata": {},
   "outputs": [],
   "source": [
    "B.close()"
   ]
  }
 ],
 "metadata": {
  "kernelspec": {
   "display_name": "dev-dacman",
   "language": "python",
   "name": "dev-dacman"
  },
  "language_info": {
   "codemirror_mode": {
    "name": "ipython",
    "version": 3
   },
   "file_extension": ".py",
   "mimetype": "text/x-python",
   "name": "python",
   "nbconvert_exporter": "python",
   "pygments_lexer": "ipython3",
   "version": "3.6.8"
  }
 },
 "nbformat": 4,
 "nbformat_minor": 2
}
