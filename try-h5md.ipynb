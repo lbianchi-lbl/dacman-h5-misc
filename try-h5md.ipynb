{
 "cells": [
  {
   "cell_type": "code",
   "execution_count": 1,
   "metadata": {},
   "outputs": [],
   "source": [
    "import h5md\n",
    "import h5py as h5"
   ]
  },
  {
   "cell_type": "code",
   "execution_count": 2,
   "metadata": {},
   "outputs": [
    {
     "data": {
      "text/plain": [
       "<HDF5 file \"A.h5\" (mode r)>"
      ]
     },
     "execution_count": 2,
     "metadata": {},
     "output_type": "execute_result"
    }
   ],
   "source": [
    "A = h5.File('A.h5', 'r')\n",
    "A"
   ]
  },
  {
   "cell_type": "code",
   "execution_count": 3,
   "metadata": {},
   "outputs": [
    {
     "data": {
      "application/json": {
       "/": {
        "attributes": {},
        "file": {
         "filename": "A.h5"
        },
        "group": {
         "fileno": [
          1,
          0
         ],
         "num_objs": {
          "Group": 3,
          "total": 3
         }
        },
        "id": 72057594037927940,
        "name": "/",
        "type_h5": "File",
        "type_h5py": "<class 'h5py._hl.files.File'>"
       },
       "analysis": {
        "attributes": {},
        "group": {
         "fileno": [
          1,
          0
         ],
         "num_objs": {
          "total": 0
         }
        },
        "id": 144115188075855870,
        "name": "analysis",
        "type_h5": "Group",
        "type_h5py": "<class 'h5py._hl.group.Group'>"
       },
       "data_clean": {
        "attributes": {},
        "group": {
         "fileno": [
          1,
          0
         ],
         "num_objs": {
          "total": 0
         }
        },
        "id": 144115188075855870,
        "name": "data_clean",
        "type_h5": "Group",
        "type_h5py": "<class 'h5py._hl.group.Group'>"
       },
       "data_raw": {
        "attributes": {},
        "group": {
         "fileno": [
          1,
          0
         ],
         "num_objs": {
          "Dataset": 7,
          "total": 7
         }
        },
        "id": 144115188075855870,
        "name": "data_raw",
        "type_h5": "Group",
        "type_h5py": "<class 'h5py._hl.group.Group'>"
       },
       "data_raw/exp0": {
        "attributes": {
         "temperature": 23.2,
         "uid": "2019-07-01_001"
        },
        "dataset": {
         "dtype": "dtype('int64')",
         "name": "/data_raw/exp0",
         "ndim": 1,
         "shape": [
          6
         ],
         "type_value": "<class 'numpy.ndarray'>",
         "value": "array([ 4,  1,  6,  8,  1, 12])"
        },
        "id": 360287970189639700,
        "name": "data_raw/exp0",
        "type_h5": "Dataset",
        "type_h5py": "<class 'h5py._hl.dataset.Dataset'>"
       },
       "data_raw/exp1": {
        "attributes": {
         "temperature": 35.9,
         "uid": "2019-07-03_001"
        },
        "dataset": {
         "dtype": "dtype('S1')",
         "name": "/data_raw/exp1",
         "ndim": 1,
         "shape": [
          8
         ],
         "type_value": "<class 'numpy.ndarray'>",
         "value": "array([b'a', b'b', b'c', b'd', b'e', b'f', b'h', b'g'], dtype='|S1')"
        },
        "id": 360287970189639700,
        "name": "data_raw/exp1",
        "type_h5": "Dataset",
        "type_h5py": "<class 'h5py._hl.dataset.Dataset'>"
       },
       "data_raw/exp2": {
        "attributes": {
         "temperature": 27.6,
         "uid": "2019-07-09_001"
        },
        "dataset": {
         "dtype": "dtype('int64')",
         "name": "/data_raw/exp2",
         "ndim": 1,
         "shape": [
          7
         ],
         "type_value": "<class 'numpy.ndarray'>",
         "value": "array([32,  1, 52,  3,  8,  5, 29])"
        },
        "id": 360287970189639700,
        "name": "data_raw/exp2",
        "type_h5": "Dataset",
        "type_h5py": "<class 'h5py._hl.dataset.Dataset'>"
       },
       "data_raw/exp3": {
        "attributes": {
         "temperature": 25.7,
         "uid": "2019-07-12_001"
        },
        "dataset": {
         "dtype": "dtype('int64')",
         "name": "/data_raw/exp3",
         "ndim": 1,
         "shape": [
          7
         ],
         "type_value": "<class 'numpy.ndarray'>",
         "value": "array([ 3, 42,  5, 23, 26, 48,  1])"
        },
        "id": 360287970189639700,
        "name": "data_raw/exp3",
        "type_h5": "Dataset",
        "type_h5py": "<class 'h5py._hl.dataset.Dataset'>"
       },
       "data_raw/exp4": {
        "attributes": {
         "temperature": 27.4,
         "uid": "2019-07-12_002"
        },
        "dataset": {
         "dtype": "dtype('int64')",
         "name": "/data_raw/exp4",
         "ndim": 1,
         "shape": [
          7
         ],
         "type_value": "<class 'numpy.ndarray'>",
         "value": "array([53,  3, 26,  7, 39,  4,  9])"
        },
        "id": 360287970189639700,
        "name": "data_raw/exp4",
        "type_h5": "Dataset",
        "type_h5py": "<class 'h5py._hl.dataset.Dataset'>"
       },
       "data_raw/exp5": {
        "attributes": {
         "temperature": 25,
         "uid": "2019-07-13_001"
        },
        "dataset": {
         "dtype": "dtype('int64')",
         "name": "/data_raw/exp5",
         "ndim": 1,
         "shape": [
          5
         ],
         "type_value": "<class 'numpy.ndarray'>",
         "value": "array([0, 1, 2, 3, 4])"
        },
        "id": 360287970189639700,
        "name": "data_raw/exp5",
        "type_h5": "Dataset",
        "type_h5py": "<class 'h5py._hl.dataset.Dataset'>"
       },
       "data_raw/exp6": {
        "attributes": {
         "temperature": 25.3,
         "uid": "2019-07-13_002"
        },
        "dataset": {
         "dtype": "dtype('<f8')",
         "name": "/data_raw/exp6",
         "ndim": 1,
         "shape": [
          6
         ],
         "type_value": "<class 'numpy.ndarray'>",
         "value": "array([12.1, 41. , 57. , 17. , 30. , 23.2])"
        },
        "id": 360287970189639700,
        "name": "data_raw/exp6",
        "type_h5": "Dataset",
        "type_h5py": "<class 'h5py._hl.dataset.Dataset'>"
       }
      },
      "text/plain": [
       "<IPython.core.display.JSON object>"
      ]
     },
     "metadata": {
      "application/json": {
       "expanded": false,
       "root": "root"
      }
     },
     "output_type": "display_data"
    }
   ],
   "source": [
    "rec_A = h5md.Record(A, key_getter=lambda md: md['name'])\n",
    "rec_A"
   ]
  },
  {
   "cell_type": "code",
   "execution_count": 4,
   "metadata": {},
   "outputs": [
    {
     "data": {
      "text/plain": [
       "<HDF5 file \"A.h5\" (mode r)>"
      ]
     },
     "execution_count": 4,
     "metadata": {},
     "output_type": "execute_result"
    }
   ],
   "source": [
    "B = h5.File('A.h5', 'r')\n",
    "B"
   ]
  },
  {
   "cell_type": "code",
   "execution_count": 5,
   "metadata": {},
   "outputs": [
    {
     "data": {
      "application/json": {
       "/": {
        "attributes": {},
        "file": {
         "filename": "A.h5"
        },
        "group": {
         "fileno": [
          1,
          0
         ],
         "num_objs": {
          "Group": 3,
          "total": 3
         }
        },
        "id": 72057594037927940,
        "name": "/",
        "type_h5": "File",
        "type_h5py": "<class 'h5py._hl.files.File'>"
       },
       "analysis": {
        "attributes": {},
        "group": {
         "fileno": [
          1,
          0
         ],
         "num_objs": {
          "total": 0
         }
        },
        "id": 144115188075855900,
        "name": "analysis",
        "type_h5": "Group",
        "type_h5py": "<class 'h5py._hl.group.Group'>"
       },
       "data_clean": {
        "attributes": {},
        "group": {
         "fileno": [
          1,
          0
         ],
         "num_objs": {
          "total": 0
         }
        },
        "id": 144115188075855900,
        "name": "data_clean",
        "type_h5": "Group",
        "type_h5py": "<class 'h5py._hl.group.Group'>"
       },
       "data_raw": {
        "attributes": {},
        "group": {
         "fileno": [
          1,
          0
         ],
         "num_objs": {
          "Dataset": 7,
          "total": 7
         }
        },
        "id": 144115188075855900,
        "name": "data_raw",
        "type_h5": "Group",
        "type_h5py": "<class 'h5py._hl.group.Group'>"
       },
       "data_raw/exp0": {
        "attributes": {
         "temperature": 23.2,
         "uid": "2019-07-01_001"
        },
        "dataset": {
         "dtype": "dtype('int64')",
         "name": "/data_raw/exp0",
         "ndim": 1,
         "shape": [
          6
         ],
         "type_value": "<class 'numpy.ndarray'>",
         "value": "array([ 4,  1,  6,  8,  1, 12])"
        },
        "id": 360287970189639700,
        "name": "data_raw/exp0",
        "type_h5": "Dataset",
        "type_h5py": "<class 'h5py._hl.dataset.Dataset'>"
       },
       "data_raw/exp1": {
        "attributes": {
         "temperature": 35.9,
         "uid": "2019-07-03_001"
        },
        "dataset": {
         "dtype": "dtype('S1')",
         "name": "/data_raw/exp1",
         "ndim": 1,
         "shape": [
          8
         ],
         "type_value": "<class 'numpy.ndarray'>",
         "value": "array([b'a', b'b', b'c', b'd', b'e', b'f', b'h', b'g'], dtype='|S1')"
        },
        "id": 360287970189639700,
        "name": "data_raw/exp1",
        "type_h5": "Dataset",
        "type_h5py": "<class 'h5py._hl.dataset.Dataset'>"
       },
       "data_raw/exp2": {
        "attributes": {
         "temperature": 27.6,
         "uid": "2019-07-09_001"
        },
        "dataset": {
         "dtype": "dtype('int64')",
         "name": "/data_raw/exp2",
         "ndim": 1,
         "shape": [
          7
         ],
         "type_value": "<class 'numpy.ndarray'>",
         "value": "array([32,  1, 52,  3,  8,  5, 29])"
        },
        "id": 360287970189639700,
        "name": "data_raw/exp2",
        "type_h5": "Dataset",
        "type_h5py": "<class 'h5py._hl.dataset.Dataset'>"
       },
       "data_raw/exp3": {
        "attributes": {
         "temperature": 25.7,
         "uid": "2019-07-12_001"
        },
        "dataset": {
         "dtype": "dtype('int64')",
         "name": "/data_raw/exp3",
         "ndim": 1,
         "shape": [
          7
         ],
         "type_value": "<class 'numpy.ndarray'>",
         "value": "array([ 3, 42,  5, 23, 26, 48,  1])"
        },
        "id": 360287970189639700,
        "name": "data_raw/exp3",
        "type_h5": "Dataset",
        "type_h5py": "<class 'h5py._hl.dataset.Dataset'>"
       },
       "data_raw/exp4": {
        "attributes": {
         "temperature": 27.4,
         "uid": "2019-07-12_002"
        },
        "dataset": {
         "dtype": "dtype('int64')",
         "name": "/data_raw/exp4",
         "ndim": 1,
         "shape": [
          7
         ],
         "type_value": "<class 'numpy.ndarray'>",
         "value": "array([53,  3, 26,  7, 39,  4,  9])"
        },
        "id": 360287970189639700,
        "name": "data_raw/exp4",
        "type_h5": "Dataset",
        "type_h5py": "<class 'h5py._hl.dataset.Dataset'>"
       },
       "data_raw/exp5": {
        "attributes": {
         "temperature": 25,
         "uid": "2019-07-13_001"
        },
        "dataset": {
         "dtype": "dtype('int64')",
         "name": "/data_raw/exp5",
         "ndim": 1,
         "shape": [
          5
         ],
         "type_value": "<class 'numpy.ndarray'>",
         "value": "array([0, 1, 2, 3, 4])"
        },
        "id": 360287970189639700,
        "name": "data_raw/exp5",
        "type_h5": "Dataset",
        "type_h5py": "<class 'h5py._hl.dataset.Dataset'>"
       },
       "data_raw/exp6": {
        "attributes": {
         "temperature": 25.3,
         "uid": "2019-07-13_002"
        },
        "dataset": {
         "dtype": "dtype('<f8')",
         "name": "/data_raw/exp6",
         "ndim": 1,
         "shape": [
          6
         ],
         "type_value": "<class 'numpy.ndarray'>",
         "value": "array([12.1, 41. , 57. , 17. , 30. , 23.2])"
        },
        "id": 360287970189639700,
        "name": "data_raw/exp6",
        "type_h5": "Dataset",
        "type_h5py": "<class 'h5py._hl.dataset.Dataset'>"
       }
      },
      "text/plain": [
       "<IPython.core.display.JSON object>"
      ]
     },
     "metadata": {
      "application/json": {
       "expanded": false,
       "root": "root"
      }
     },
     "output_type": "display_data"
    }
   ],
   "source": [
    "rec_B = h5md.Record(B, key_getter=lambda md: md['name'])\n",
    "rec_B"
   ]
  },
  {
   "cell_type": "code",
   "execution_count": 6,
   "metadata": {},
   "outputs": [
    {
     "name": "stdout",
     "output_type": "stream",
     "text": [
      "{\n",
      "    \"/\": {\n",
      "        \"name\": \"/\",\n",
      "        \"id\": 72057594037927936,\n",
      "        \"attributes\": {},\n",
      "        \"type_h5\": \"File\",\n",
      "        \"type_h5py\": \"<class 'h5py._hl.files.File'>\",\n",
      "        \"group\": {\n",
      "            \"fileno\": [\n",
      "                1,\n",
      "                0\n",
      "            ],\n",
      "            \"num_objs\": {\n",
      "                \"Group\": 3,\n",
      "                \"total\": 3\n",
      "            }\n",
      "        },\n",
      "        \"file\": {\n",
      "            \"filename\": \"A.h5\"\n",
      "        }\n",
      "    },\n",
      "    \"analysis\": {\n",
      "        \"name\": \"analysis\",\n",
      "        \"id\": 144115188075855879,\n",
      "        \"attributes\": {},\n",
      "        \"type_h5\": \"Group\",\n",
      "        \"type_h5py\": \"<class 'h5py._hl.group.Group'>\",\n",
      "        \"group\": {\n",
      "            \"fileno\": [\n",
      "                1,\n",
      "                0\n",
      "            ],\n",
      "            \"num_objs\": {\n",
      "                \"total\": 0\n",
      "            }\n",
      "        }\n",
      "    },\n",
      "    \"data_clean\": {\n",
      "        \"name\": \"data_clean\",\n",
      "        \"id\": 144115188075855880,\n",
      "        \"attributes\": {},\n",
      "        \"type_h5\": \"Group\",\n",
      "        \"type_h5py\": \"<class 'h5py._hl.group.Group'>\",\n",
      "        \"group\": {\n",
      "            \"fileno\": [\n",
      "                1,\n",
      "                0\n",
      "            ],\n",
      "            \"num_objs\": {\n",
      "                \"total\": 0\n",
      "            }\n",
      "        }\n",
      "    },\n",
      "    \"data_raw\": {\n",
      "        \"name\": \"data_raw\",\n",
      "        \"id\": 144115188075855881,\n",
      "        \"attributes\": {},\n",
      "        \"type_h5\": \"Group\",\n",
      "        \"type_h5py\": \"<class 'h5py._hl.group.Group'>\",\n",
      "        \"group\": {\n",
      "            \"fileno\": [\n",
      "                1,\n",
      "                0\n",
      "            ],\n",
      "            \"num_objs\": {\n",
      "                \"Dataset\": 7,\n",
      "                \"total\": 7\n",
      "            }\n",
      "        }\n",
      "    },\n",
      "    \"data_raw/exp0\": {\n",
      "        \"name\": \"data_raw/exp0\",\n",
      "        \"id\": 360287970189639687,\n",
      "        \"attributes\": {\n",
      "            \"temperature\": 23.2,\n",
      "            \"uid\": \"2019-07-01_001\"\n",
      "        },\n",
      "        \"type_h5\": \"Dataset\",\n",
      "        \"type_h5py\": \"<class 'h5py._hl.dataset.Dataset'>\",\n",
      "        \"dataset\": {\n",
      "            \"name\": \"/data_raw/exp0\",\n",
      "            \"shape\": [\n",
      "                6\n",
      "            ],\n",
      "            \"ndim\": 1,\n",
      "            \"dtype\": \"dtype('int64')\",\n",
      "            \"type_value\": \"<class 'numpy.ndarray'>\",\n",
      "            \"value\": \"array([ 4,  1,  6,  8,  1, 12])\"\n",
      "        }\n",
      "    },\n",
      "    \"data_raw/exp1\": {\n",
      "        \"name\": \"data_raw/exp1\",\n",
      "        \"id\": 360287970189639688,\n",
      "        \"attributes\": {\n",
      "            \"temperature\": 35.9,\n",
      "            \"uid\": \"2019-07-03_001\"\n",
      "        },\n",
      "        \"type_h5\": \"Dataset\",\n",
      "        \"type_h5py\": \"<class 'h5py._hl.dataset.Dataset'>\",\n",
      "        \"dataset\": {\n",
      "            \"name\": \"/data_raw/exp1\",\n",
      "            \"shape\": [\n",
      "                8\n",
      "            ],\n",
      "            \"ndim\": 1,\n",
      "            \"dtype\": \"dtype('S1')\",\n",
      "            \"type_value\": \"<class 'numpy.ndarray'>\",\n",
      "            \"value\": \"array([b'a', b'b', b'c', b'd', b'e', b'f', b'h', b'g'], dtype='|S1')\"\n",
      "        }\n",
      "    },\n",
      "    \"data_raw/exp2\": {\n",
      "        \"name\": \"data_raw/exp2\",\n",
      "        \"id\": 360287970189639689,\n",
      "        \"attributes\": {\n",
      "            \"temperature\": 27.6,\n",
      "            \"uid\": \"2019-07-09_001\"\n",
      "        },\n",
      "        \"type_h5\": \"Dataset\",\n",
      "        \"type_h5py\": \"<class 'h5py._hl.dataset.Dataset'>\",\n",
      "        \"dataset\": {\n",
      "            \"name\": \"/data_raw/exp2\",\n",
      "            \"shape\": [\n",
      "                7\n",
      "            ],\n",
      "            \"ndim\": 1,\n",
      "            \"dtype\": \"dtype('int64')\",\n",
      "            \"type_value\": \"<class 'numpy.ndarray'>\",\n",
      "            \"value\": \"array([32,  1, 52,  3,  8,  5, 29])\"\n",
      "        }\n",
      "    },\n",
      "    \"data_raw/exp3\": {\n",
      "        \"name\": \"data_raw/exp3\",\n",
      "        \"id\": 360287970189639690,\n",
      "        \"attributes\": {\n",
      "            \"temperature\": 25.7,\n",
      "            \"uid\": \"2019-07-12_001\"\n",
      "        },\n",
      "        \"type_h5\": \"Dataset\",\n",
      "        \"type_h5py\": \"<class 'h5py._hl.dataset.Dataset'>\",\n",
      "        \"dataset\": {\n",
      "            \"name\": \"/data_raw/exp3\",\n",
      "            \"shape\": [\n",
      "                7\n",
      "            ],\n",
      "            \"ndim\": 1,\n",
      "            \"dtype\": \"dtype('int64')\",\n",
      "            \"type_value\": \"<class 'numpy.ndarray'>\",\n",
      "            \"value\": \"array([ 3, 42,  5, 23, 26, 48,  1])\"\n",
      "        }\n",
      "    },\n",
      "    \"data_raw/exp4\": {\n",
      "        \"name\": \"data_raw/exp4\",\n",
      "        \"id\": 360287970189639691,\n",
      "        \"attributes\": {\n",
      "            \"temperature\": 27.4,\n",
      "            \"uid\": \"2019-07-12_002\"\n",
      "        },\n",
      "        \"type_h5\": \"Dataset\",\n",
      "        \"type_h5py\": \"<class 'h5py._hl.dataset.Dataset'>\",\n",
      "        \"dataset\": {\n",
      "            \"name\": \"/data_raw/exp4\",\n",
      "            \"shape\": [\n",
      "                7\n",
      "            ],\n",
      "            \"ndim\": 1,\n",
      "            \"dtype\": \"dtype('int64')\",\n",
      "            \"type_value\": \"<class 'numpy.ndarray'>\",\n",
      "            \"value\": \"array([53,  3, 26,  7, 39,  4,  9])\"\n",
      "        }\n",
      "    },\n",
      "    \"data_raw/exp5\": {\n",
      "        \"name\": \"data_raw/exp5\",\n",
      "        \"id\": 360287970189639692,\n",
      "        \"attributes\": {\n",
      "            \"temperature\": 25.0,\n",
      "            \"uid\": \"2019-07-13_001\"\n",
      "        },\n",
      "        \"type_h5\": \"Dataset\",\n",
      "        \"type_h5py\": \"<class 'h5py._hl.dataset.Dataset'>\",\n",
      "        \"dataset\": {\n",
      "            \"name\": \"/data_raw/exp5\",\n",
      "            \"shape\": [\n",
      "                5\n",
      "            ],\n",
      "            \"ndim\": 1,\n",
      "            \"dtype\": \"dtype('int64')\",\n",
      "            \"type_value\": \"<class 'numpy.ndarray'>\",\n",
      "            \"value\": \"array([0, 1, 2, 3, 4])\"\n",
      "        }\n",
      "    },\n",
      "    \"data_raw/exp6\": {\n",
      "        \"name\": \"data_raw/exp6\",\n",
      "        \"id\": 360287970189639693,\n",
      "        \"attributes\": {\n",
      "            \"temperature\": 25.3,\n",
      "            \"uid\": \"2019-07-13_002\"\n",
      "        },\n",
      "        \"type_h5\": \"Dataset\",\n",
      "        \"type_h5py\": \"<class 'h5py._hl.dataset.Dataset'>\",\n",
      "        \"dataset\": {\n",
      "            \"name\": \"/data_raw/exp6\",\n",
      "            \"shape\": [\n",
      "                6\n",
      "            ],\n",
      "            \"ndim\": 1,\n",
      "            \"dtype\": \"dtype('<f8')\",\n",
      "            \"type_value\": \"<class 'numpy.ndarray'>\",\n",
      "            \"value\": \"array([12.1, 41. , 57. , 17. , 30. , 23.2])\"\n",
      "        }\n",
      "    }\n",
      "}\n"
     ]
    }
   ],
   "source": [
    "rec_A.display()"
   ]
  }
 ],
 "metadata": {
  "kernelspec": {
   "display_name": "dev-dacman",
   "language": "python",
   "name": "dev-dacman"
  },
  "language_info": {
   "codemirror_mode": {
    "name": "ipython",
    "version": 3
   },
   "file_extension": ".py",
   "mimetype": "text/x-python",
   "name": "python",
   "nbconvert_exporter": "python",
   "pygments_lexer": "ipython3",
   "version": "3.6.8"
  }
 },
 "nbformat": 4,
 "nbformat_minor": 2
}
